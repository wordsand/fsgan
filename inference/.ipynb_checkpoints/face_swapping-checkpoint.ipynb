{
 "cells": [
  {
   "cell_type": "markdown",
   "metadata": {
    "colab_type": "text",
    "id": "vhTuIR4S1DGu"
   },
   "source": [
    "<a href=\"https://colab.research.google.com/github/wordsand/fsgan/blob/master/inference/face_swapping.ipynb\" target=\"_parent\">\n",
    "  <img src=\"https://colab.research.google.com/assets/colab-badge.svg\" alt=\"Open In Colab\"/>\n",
    "</a>\n",
    "\n",
    "## FSGAN Face Swapping Demo\n"
   ]
  },
  {
   "cell_type": "markdown",
   "metadata": {
    "colab_type": "text",
    "id": "2pTZin5T0Xx-"
   },
   "source": [
    "A Tesla P100 GPU is recommended for this demo."
   ]
  },
  {
   "cell_type": "code",
   "execution_count": null,
   "metadata": {
    "colab": {},
    "colab_type": "code",
    "id": "P3OqxFS8xKfP"
   },
   "outputs": [],
   "source": [
    "!nvidia-smi"
   ]
  },
  {
   "cell_type": "markdown",
   "metadata": {
    "colab_type": "text",
    "id": "IretezXP3cUw"
   },
   "source": [
    "### Installation"
   ]
  },
  {
   "cell_type": "code",
   "execution_count": null,
   "metadata": {
    "colab": {},
    "colab_type": "code",
    "id": "1znv0kTq3oCh"
   },
   "outputs": [],
   "source": [
    "import sys\n",
    "from IPython.display import HTML, clear_output\n",
    "from base64 import b64encode\n",
    "\n",
    "# Install the required dependencies\n",
    "!wget https://repo.anaconda.com/miniconda/Miniconda3-latest-Linux-x86_64.sh\n",
    "!bash Miniconda3-latest-Linux-x86_64.sh -bfp /usr/local\n",
    "!rm Miniconda3-latest-Linux-x86_64.sh\n",
    "\n",
    "!conda install pytorch torchvision cudatoolkit=10.1 -c pytorch -y\n",
    "!pip3 install opencv-python ffmpeg-python youtube-dl yacs\n",
    "\n",
    "!mkdir -p /content/projects/\n",
    "%cd /content/projects/\n",
    "!git clone https://github.com/YuvalNirkin/face_detection_dsfd\n",
    "!git clone https://github.com/wordsand/fsgan.git\n",
    "\n",
    "sys.path += ['/usr/local/lib/python3.9/site-packages', '/content/projects']\n",
    "\n",
    "# Initialize source and target videos from the repository examples\n",
    "!mkdir -p /content/data\n",
    "!cp /content/projects/fsgan/docs/examples/shinzo_abe.mp4 /content/data/source.mp4\n",
    "!cp /content/projects/fsgan/docs/examples/conan_obrien.mp4 /content/data/target.mp4\n",
    "\n",
    "\n",
    "!cp /content/projects/fsgan/docs/examples/cl.mp4 /content/data/cl.mp4\n",
    "!cp /content/projects/fsgan/docs/examples/porn.mp4 /content/data/porn.mp4\n",
    "\n",
    "# Utility functions\n",
    "import ffmpeg\n",
    "\n",
    "def encode_audio(video_path, audio_path, output_path):\n",
    "  ffmpeg.concat(ffmpeg.input(video_path), ffmpeg.input(audio_path), v=1, a=1) \\\n",
    "    .output(output_path, strict='-2').run(overwrite_output=True)\n",
    "\n",
    "\n",
    "def display_video(video_path, width=640, clear=True):\n",
    "  vid_data = open(video_path,'rb').read()\n",
    "  vid_url = 'data:video/mp4;base64,' + b64encode(vid_data).decode()\n",
    "\n",
    "  if clear:\n",
    "    clear_output()\n",
    "\n",
    "  return HTML(f\"\"\"\n",
    "  <video width={width} controls>\n",
    "    <source src={vid_url} type=\"video/mp4\">\n",
    "  </video>\n",
    "  \"\"\")"
   ]
  },
  {
   "cell_type": "markdown",
   "metadata": {
    "colab_type": "text",
    "id": "ax4cBQlyrUUz"
   },
   "source": [
    "Mount your Google Drive using the following step or click on \"Mount Drive\" in the menu to the left"
   ]
  },
  {
   "cell_type": "code",
   "execution_count": null,
   "metadata": {
    "colab": {},
    "colab_type": "code",
    "id": "ajSEdIOgrXz7"
   },
   "outputs": [],
   "source": [
    "from google.colab import drive\n",
    "drive.mount('/content/drive')"
   ]
  },
  {
   "cell_type": "markdown",
   "metadata": {
    "colab_type": "text",
    "id": "RonCHu9SLMwm"
   },
   "source": [
    "### Initialize face swapping"
   ]
  },
  {
   "cell_type": "code",
   "execution_count": null,
   "metadata": {
    "colab": {},
    "colab_type": "code",
    "id": "DYh2jCUYrzLl"
   },
   "outputs": [],
   "source": [
    "import os\n",
    "from fsgan.inference.swap import FaceSwapping\n",
    "from fsgan.criterions.vgg_loss import VGGLoss\n",
    "\n",
    "#@markdown This step should only be done once unless one of the\n",
    "#@markdown following parameters is changed:\n",
    "\n",
    "#@markdown ---\n",
    "#@markdown Path to the weights directory (make sure it is correct):\n",
    "weights_dir = '/content/drive/My Drive/fsgan/weights' #@param {type:\"string\"}\n",
    "#@markdown Number of finetune iterations on the source subject:\n",
    "finetune_iterations = 800 #@param {type:\"slider\", min:100, max:2000, step:1}\n",
    "#@markdown If True, the inner part of the mouth will be removed from the segmentation:\n",
    "seg_remove_mouth = True #@param {type:\"boolean\"}\n",
    "#@markdown Segmentation batch size\n",
    "seg_batch_size = 24 #@param {type:\"slider\", min:1, max:64, step:1}\n",
    "#@markdown Inference batch size\n",
    "batch_size = 8 #@param {type:\"slider\", min:1, max:64, step:1}\n",
    "#@markdown ---\n",
    "\n",
    "\n",
    "detection_model = os.path.join(weights_dir, 'v2/WIDERFace_DSFD_RES152.pth')\n",
    "pose_model = os.path.join(weights_dir, 'shared/hopenet_robust_alpha1.pth')\n",
    "lms_model = os.path.join(weights_dir, 'v2/hr18_wflw_landmarks.pth')\n",
    "seg_model = os.path.join(weights_dir, 'v2/celeba_unet_256_1_2_segmentation_v2.pth')\n",
    "reenactment_model = os.path.join(weights_dir, 'v2/nfv_msrunet_256_1_2_reenactment_v2.1.pth')\n",
    "completion_model = os.path.join(weights_dir, 'v2/ijbc_msrunet_256_1_2_inpainting_v2.pth')\n",
    "blending_model = os.path.join(weights_dir, 'v2/ijbc_msrunet_256_1_2_blending_v2.pth')\n",
    "criterion_id_path = os.path.join(weights_dir, 'v2/vggface2_vgg19_256_1_2_id.pth')\n",
    "criterion_id = VGGLoss(criterion_id_path)\n",
    "\n",
    "\n",
    "face_swapping = FaceSwapping(\n",
    "    detection_model=detection_model, pose_model=pose_model, lms_model=lms_model,\n",
    "    seg_model=seg_model, reenactment_model=reenactment_model,\n",
    "    completion_model=completion_model, blending_model=blending_model,\n",
    "    criterion_id=criterion_id,\n",
    "    finetune=True, finetune_save=True, finetune_iterations=finetune_iterations,\n",
    "    seg_remove_mouth=finetune_iterations, batch_size=batch_size,\n",
    "    seg_batch_size=seg_batch_size, encoder_codec='mp4v')"
   ]
  },
  {
   "cell_type": "markdown",
   "metadata": {
    "colab_type": "text",
    "id": "QmSQATuPAxvt"
   },
   "source": [
    "### Optional: Download source video from YouTube\n",
    "You can change the source URL, start and end times [hh:mm:ss].  \n",
    "Alternatively, manually upload an image or video to **_data_** (in the menu to the left) and rename to **_source.jpg_** or **_source.mp4_** (click \"Refresh\" if missing). By default the source video will be taken from the repository examples."
   ]
  },
  {
   "cell_type": "markdown",
   "metadata": {
    "colab_type": "text",
    "id": "TotDPGdqJwkw"
   },
   "source": [
    "### Optional: Download target video from YouTube\n",
    "You can change the target URL, start and end times [hh:mm:ss].  \n",
    "Alternatively, manually upload a video to **_data_** (in the menu to the left) and rename to **_target.mp4_** (click \"Refresh\" if missing). By default the source video will be taken from the repository examples."
   ]
  },
  {
   "cell_type": "markdown",
   "metadata": {
    "colab_type": "text",
    "id": "jgx1z8G3VWO8"
   },
   "source": [
    "### Do face swapping"
   ]
  },
  {
   "cell_type": "code",
   "execution_count": null,
   "metadata": {
    "colab": {},
    "colab_type": "code",
    "id": "hbiB7je2Vb5q"
   },
   "outputs": [],
   "source": [
    "# Do face swapping\n",
    "#@markdown ---\n",
    "#@markdown Toggle whether to finetune the reenactment generator:\n",
    "finetune = True #@param {type:\"boolean\"}\n",
    "#@markdown Source path\n",
    "source_path = '/content/data/source.mp4' #@param {type:\"string\"}\n",
    "#@markdown Source selection method [\"longest\" | sequence number]:\n",
    "select_source = 'longest' #@param {type:\"string\"}\n",
    "#@markdown Target path\n",
    "target_path = '/content/data/target.mp4' #@param {type:\"string\"}\n",
    "#@markdown Target selection method [\"longest\" | sequence number]:\n",
    "select_target = 'longest' #@param {type:\"string\"}\n",
    "#@markdown ---\n",
    "output_tmp_path = '/content/data/output_tmp.mp4'\n",
    "output_path = '/content/output.mp4'\n",
    "face_swapping(source_path, target_path, output_tmp_path,\n",
    "              select_source, select_target, finetune)\n",
    "\n",
    "# Encode with audio and display result\n",
    "encode_audio(output_tmp_path, target_path, output_path)\n",
    "os.remove(output_tmp_path)\n",
    "display_video(output_path)"
   ]
  }
 ],
 "metadata": {
  "accelerator": "GPU",
  "colab": {
   "collapsed_sections": [],
   "name": "fsgan_face_swapping.ipynb",
   "provenance": [],
   "toc_visible": true
  },
  "kernelspec": {
   "display_name": "Python 3",
   "language": "python",
   "name": "python3"
  },
  "language_info": {
   "codemirror_mode": {
    "name": "ipython",
    "version": 3
   },
   "file_extension": ".py",
   "mimetype": "text/x-python",
   "name": "python",
   "nbconvert_exporter": "python",
   "pygments_lexer": "ipython3",
   "version": "3.8.5"
  }
 },
 "nbformat": 4,
 "nbformat_minor": 1
}
